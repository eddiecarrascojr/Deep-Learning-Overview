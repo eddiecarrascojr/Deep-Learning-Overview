{
 "cells": [
  {
   "cell_type": "markdown",
   "metadata": {
    "collapsed": true
   },
   "source": [
    "# Creating a simple Perceptron"
   ]
  },
  {
   "cell_type": "code",
   "execution_count": 34,
   "metadata": {},
   "outputs": [],
   "source": [
    "import numpy as np\n",
    "from tensorflow import keras\n",
    "from tensorflow.keras import layers, models\n",
    "\n",
    "max_features = 20000  # Only consider the top 20k words\n",
    "maxlen = 200  # Only consider the first 200 words of each movie review"
   ]
  },
  {
   "cell_type": "code",
   "execution_count": 18,
   "metadata": {},
   "outputs": [],
   "source": [
    "import ssl\n",
    "ssl._create_default_https_context = ssl._create_unverified_context"
   ]
  },
  {
   "cell_type": "code",
   "execution_count": 31,
   "metadata": {},
   "outputs": [],
   "source": [
    "(x_train, y_train), (x_test, y_test) = keras.datasets.imdb.load_data(\n",
    "                                                num_words=max_features\n",
    "                                            )"
   ]
  },
  {
   "cell_type": "code",
   "execution_count": 29,
   "metadata": {},
   "outputs": [],
   "source": [
    "# Prepare the data\n",
    "def vectorize_sequence(sequences, dimension=max_features):\n",
    "    results = np.zeros((len(sequences), dimension))\n",
    "    \n",
    "    for i, sequence in enumerate(sequences):\n",
    "        results[i, sequence] = 1\n",
    "    return results"
   ]
  },
  {
   "cell_type": "code",
   "execution_count": 32,
   "metadata": {},
   "outputs": [],
   "source": [
    "x_train = vectorize_sequence(x_train)\n",
    "x_test = vectorize_sequence(x_test)"
   ]
  },
  {
   "cell_type": "code",
   "execution_count": 33,
   "metadata": {},
   "outputs": [],
   "source": [
    "# vectorize the labels\n",
    "y_train = np.asanyarray(y_train).astype('float32')\n",
    "y_test = np.asanyarray(y_test).astype('float32')"
   ]
  },
  {
   "cell_type": "code",
   "execution_count": 36,
   "metadata": {},
   "outputs": [],
   "source": [
    "# Building a model\n",
    "model = keras.models.Sequential()\n",
    "model.add(layers.Dense(16, activation='relu', input_shape=(max_features, )))\n",
    "model.add(layers.Dense(16, activation='relu'))\n",
    "model.add(layers.Dense(1, activation='sigmoid'))"
   ]
  },
  {
   "cell_type": "code",
   "execution_count": 37,
   "metadata": {},
   "outputs": [],
   "source": [
    "# Compile the model\n",
    "model.compile(optimizer='rmsprop',\n",
    "              loss='binary_crossentropy',\n",
    "              metrics=['accuracy'])"
   ]
  },
  {
   "cell_type": "code",
   "execution_count": 40,
   "metadata": {},
   "outputs": [
    {
     "name": "stdout",
     "output_type": "stream",
     "text": [
      "Epoch 1/20\n",
      "49/49 [==============================] - 6s 117ms/step - loss: 9.1377e-04 - accuracy: 0.9999 - val_loss: 1.2316 - val_accuracy: 0.8404\n",
      "Epoch 2/20\n",
      "49/49 [==============================] - 2s 37ms/step - loss: 8.0452e-04 - accuracy: 0.9999 - val_loss: 1.2764 - val_accuracy: 0.8416\n",
      "Epoch 3/20\n",
      "49/49 [==============================] - 2s 32ms/step - loss: 7.2523e-04 - accuracy: 0.9999 - val_loss: 1.3110 - val_accuracy: 0.8432\n",
      "Epoch 4/20\n",
      "49/49 [==============================] - 2s 31ms/step - loss: 1.7784e-04 - accuracy: 1.0000 - val_loss: 1.3704 - val_accuracy: 0.8411\n",
      "Epoch 5/20\n",
      "49/49 [==============================] - 2s 31ms/step - loss: 7.0245e-04 - accuracy: 0.9998 - val_loss: 1.4387 - val_accuracy: 0.8402\n",
      "Epoch 6/20\n",
      "49/49 [==============================] - 2s 31ms/step - loss: 8.1249e-05 - accuracy: 1.0000 - val_loss: 1.4633 - val_accuracy: 0.8406\n",
      "Epoch 7/20\n",
      "49/49 [==============================] - 2s 32ms/step - loss: 9.3160e-04 - accuracy: 0.9997 - val_loss: 1.5296 - val_accuracy: 0.8401\n",
      "Epoch 8/20\n",
      "49/49 [==============================] - 2s 32ms/step - loss: 4.3525e-05 - accuracy: 1.0000 - val_loss: 1.5510 - val_accuracy: 0.8402\n",
      "Epoch 9/20\n",
      "49/49 [==============================] - 2s 31ms/step - loss: 0.0010 - accuracy: 0.9996 - val_loss: 1.7030 - val_accuracy: 0.8364\n",
      "Epoch 10/20\n",
      "49/49 [==============================] - 2s 32ms/step - loss: 3.8318e-05 - accuracy: 1.0000 - val_loss: 1.6451 - val_accuracy: 0.8394\n",
      "Epoch 11/20\n",
      "49/49 [==============================] - 2s 31ms/step - loss: 1.9485e-05 - accuracy: 1.0000 - val_loss: 1.7073 - val_accuracy: 0.8381\n",
      "Epoch 12/20\n",
      "49/49 [==============================] - 2s 32ms/step - loss: 7.2056e-04 - accuracy: 0.9998 - val_loss: 1.7490 - val_accuracy: 0.8394\n",
      "Epoch 13/20\n",
      "49/49 [==============================] - 2s 32ms/step - loss: 1.2711e-05 - accuracy: 1.0000 - val_loss: 1.7597 - val_accuracy: 0.8398\n",
      "Epoch 14/20\n",
      "49/49 [==============================] - 2s 32ms/step - loss: 8.8050e-06 - accuracy: 1.0000 - val_loss: 1.8043 - val_accuracy: 0.8391\n",
      "Epoch 15/20\n",
      "49/49 [==============================] - 2s 31ms/step - loss: 1.9544e-04 - accuracy: 1.0000 - val_loss: 1.8535 - val_accuracy: 0.8415\n",
      "Epoch 16/20\n",
      "49/49 [==============================] - 2s 31ms/step - loss: 5.4145e-06 - accuracy: 1.0000 - val_loss: 1.8721 - val_accuracy: 0.8402\n",
      "Epoch 17/20\n",
      "49/49 [==============================] - 2s 31ms/step - loss: 3.8557e-06 - accuracy: 1.0000 - val_loss: 1.9250 - val_accuracy: 0.8391\n",
      "Epoch 18/20\n",
      "49/49 [==============================] - 2s 31ms/step - loss: 0.0010 - accuracy: 0.9998 - val_loss: 1.9716 - val_accuracy: 0.8398\n",
      "Epoch 19/20\n",
      "49/49 [==============================] - 1s 31ms/step - loss: 1.9693e-05 - accuracy: 1.0000 - val_loss: 1.9831 - val_accuracy: 0.8408\n",
      "Epoch 20/20\n",
      "49/49 [==============================] - 1s 30ms/step - loss: 3.2264e-06 - accuracy: 1.0000 - val_loss: 2.0025 - val_accuracy: 0.8395\n"
     ]
    }
   ],
   "source": [
    "history = model.fit(x_train, y_train, epochs=20, batch_size=512, validation_data=(x_test, y_test))"
   ]
  },
  {
   "cell_type": "code",
   "execution_count": 47,
   "metadata": {},
   "outputs": [
    {
     "name": "stdout",
     "output_type": "stream",
     "text": [
      "dict_keys(['loss', 'accuracy', 'val_loss', 'val_accuracy'])\n"
     ]
    }
   ],
   "source": [
    "import matplotlib.pyplot as plt\n",
    "\n",
    "hist_dict = history.history\n",
    "loss_values = hist_dict['loss']\n",
    "val_loss_values = hist_dict['val_loss']\n",
    "acc = hist_dict['accuracy']\n",
    "\n",
    "print(hist_dict.keys())"
   ]
  },
  {
   "cell_type": "code",
   "execution_count": 49,
   "metadata": {},
   "outputs": [
    {
     "data": {
      "image/png": "[encoded data removed]",
      "text/plain": [
       "<Figure size 432x288 with 1 Axes>"
      ]
     },
     "metadata": {
      "needs_background": "light"
     },
     "output_type": "display_data"
    }
   ],
   "source": [
    "epochs = range(1, len(acc) + 1)\n",
    "\n",
    "plt.plot(epochs, loss_values, 'bo', label='Training Loss')\n",
    "plt.plot(epochs, val_loss_values, 'b', label='Validation Loss')\n",
    "plt.title('Training and Validation Loss')\n",
    "plt.xlabel('Epochs')\n",
    "plt.ylabel('Loss')\n",
    "plt.legend()\n",
    "\n",
    "plt.show()"
   ]
  },
  {
   "cell_type": "code",
   "execution_count": 50,
   "metadata": {},
   "outputs": [
    {
     "data": {
      "image/png": "[encoded data removed]",
      "text/plain": [
       "<Figure size 432x288 with 1 Axes>"
      ]
     },
     "metadata": {
      "needs_background": "light"
     },
     "output_type": "display_data"
    }
   ],
   "source": [
    "plt.clf()\n",
    "val_acc = hist_dict['val_accuracy']\n",
    "\n",
    "plt.plot(epochs, acc, 'bo', label='Training Acc')\n",
    "plt.plot(epochs, val_acc, 'b', label='Validation Acc')\n",
    "plt.title('Training and Validation Accuracy')\n",
    "plt.xlabel('Epochs')\n",
    "plt.ylabel('Loss')\n",
    "plt.legend()\n",
    "\n",
    "plt.show()"
   ]
  },
  {
   "cell_type": "code",
   "execution_count": null,
   "metadata": {},
   "outputs": [],
   "source": [
    "# TODO: Replicate this experiment in Tensorflow\n",
    "# TODO: Replicate this experiment in PyTorch"
   ]
  }
 ],
 "metadata": {
  "kernelspec": {
   "display_name": "Python 3",
   "language": "python",
   "name": "python3"
  },
  "language_info": {
   "codemirror_mode": {
    "name": "ipython",
    "version": 3
   },
   "file_extension": ".py",
   "mimetype": "text/x-python",
   "name": "python",
   "nbconvert_exporter": "python",
   "pygments_lexer": "ipython3",
   "version": "3.8.5"
  }
 },
 "nbformat": 4,
 "nbformat_minor": 1
}
